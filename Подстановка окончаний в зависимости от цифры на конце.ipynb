{
 "cells": [
  {
   "cell_type": "code",
   "execution_count": 1,
   "metadata": {},
   "outputs": [
    {
     "name": "stdout",
     "output_type": "stream",
     "text": [
      "34\n",
      "34 программиста\n"
     ]
    }
   ],
   "source": [
    "a = int(input())\n",
    "if a%10==1 and (a % 100) // 10 != 1: \n",
    "    print(a, 'программист')\n",
    "elif a%10==2 or a%10==3 or a%10==4 and (a % 100) // 10 != 1:\n",
    "    print(a, 'программиста')\n",
    "else:\n",
    "    print(a, 'программистов')"
   ]
  },
  {
   "cell_type": "code",
   "execution_count": null,
   "metadata": {},
   "outputs": [],
   "source": [
    "#Если вторая с конца цифра 1, то всегда -ов\n",
    "#Иначе если последняя цифра 0, 5-9, то -ов;  если 1, то -ст; если 2-4, то -ста\n",
    "#Получить вторую с конца цифру: (n % 100) // 10\n",
    "#Получить последнюю: n % 10"
   ]
  }
 ],
 "metadata": {
  "kernelspec": {
   "display_name": "Python 3",
   "language": "python",
   "name": "python3"
  },
  "language_info": {
   "codemirror_mode": {
    "name": "ipython",
    "version": 3
   },
   "file_extension": ".py",
   "mimetype": "text/x-python",
   "name": "python",
   "nbconvert_exporter": "python",
   "pygments_lexer": "ipython3",
   "version": "3.8.5"
  }
 },
 "nbformat": 4,
 "nbformat_minor": 4
}
